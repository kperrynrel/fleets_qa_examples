{
 "cells": [
  {
   "cell_type": "markdown",
   "id": "d68d6d5d",
   "metadata": {},
   "source": [
    "# Running PVAnalytics QA Routines on Power Data"
   ]
  },
  {
   "cell_type": "markdown",
   "id": "440479be",
   "metadata": {},
   "source": [
    "Import all of the necessary packages for running QA."
   ]
  },
  {
   "cell_type": "code",
   "execution_count": 1,
   "id": "195b044f",
   "metadata": {},
   "outputs": [],
   "source": [
    "import pandas as pd\n",
    "import pvlib\n",
    "import glob\n",
    "import timezonefinder\n",
    "from statistics import mode\n",
    "import numpy as np\n",
    "from matplotlib import pyplot as plt\n",
    "import rdtools\n",
    "import pvanalytics\n",
    "from pvanalytics.quality import data_shifts as ds\n",
    "from pvanalytics.quality import gaps\n",
    "from pvanalytics.quality.outliers import zscore\n",
    "from pvanalytics.features.daytime import power_or_irradiance\n",
    "from pvanalytics.system import is_tracking_envelope, infer_orientation_fit_pvwatts\n",
    "import pva_time_shifts as tsh"
   ]
  },
  {
   "cell_type": "markdown",
   "id": "2275ba5c",
   "metadata": {},
   "source": [
    "## Power Data"
   ]
  },
  {
   "cell_type": "markdown",
   "id": "61302692",
   "metadata": {},
   "source": [
    "The code below can be used to run a variation of the PV Fleets (https://www.nrel.gov/pv/fleet-performance-data-initiative.html) QA routine on a measured power stream."
   ]
  },
  {
   "cell_type": "markdown",
   "id": "f871f029",
   "metadata": {},
   "source": [
    "First, define time series CSV, and associated system latitude-longitude coordinates. Latitude-longitude coordinates will be used to model solar output at the specified location using pvlib functionality."
   ]
  },
  {
   "cell_type": "code",
   "execution_count": 3,
   "id": "572fd6b6",
   "metadata": {},
   "outputs": [],
   "source": [
    "file_path = \"./data/50_ac_power_2_full_DST.csv\"\n",
    "latitude = 39.7406\n",
    "longitude = -105.1775\n",
    "timezone = \"GMT\"\n",
    "# Sign up for an NSRDB API key here: https://developer.nrel.gov/signup/\n",
    "nsrdb_api_key = 'YOUR_API_KEY'\n",
    "nsrdb_user_email = \"kirsten.perry@nrel.gov\"\n",
    "\n",
    "# Read in the file as as pandas series\n",
    "time_series = pd.read_csv(file_path, parse_dates=True, index_col=0).squeeze()\n",
    "\n",
    "# Remove any duplicate index values (this is just a failsafe in case there are!)\n",
    "time_series = time_series.groupby(time_series.index).first()"
   ]
  },
  {
   "cell_type": "markdown",
   "id": "49923518",
   "metadata": {},
   "source": [
    "Get the associated data sampling frequency of the time series."
   ]
  },
  {
   "cell_type": "code",
   "execution_count": 4,
   "id": "d04c3141",
   "metadata": {},
   "outputs": [
    {
     "name": "stdout",
     "output_type": "stream",
     "text": [
      "measured_on\n",
      "2011-04-15 00:00:00-07:00    0.02260\n",
      "2011-04-15 00:01:00-07:00   -0.04520\n",
      "2011-04-15 00:02:00-07:00    0.13540\n",
      "2011-04-15 00:03:00-07:00    0.24830\n",
      "2011-04-15 00:04:00-07:00   -0.63210\n",
      "                              ...   \n",
      "2013-12-31 23:55:00-07:00    0.18041\n",
      "2013-12-31 23:56:00-07:00   -0.40591\n",
      "2013-12-31 23:57:00-07:00   -0.76673\n",
      "2013-12-31 23:58:00-07:00   -0.58632\n",
      "2013-12-31 23:59:00-07:00   -0.90204\n",
      "Name: ac_power_2, Length: 1428480, dtype: float64\n"
     ]
    }
   ],
   "source": [
    "# Show the time series just to check it's timezone-aware. This is important for all future analysis, as many\n",
    "# PVAnalytics functions require tz-aware data.\n",
    "\n",
    "print(time_series)\n",
    "\n",
    "# Get the time series frequency\n",
    "freq_minutes = int((mode(abs(np.diff(time_series.index)))).total_seconds() / 60)\n",
    "data_freq = str(freq_minutes) + \"T\""
   ]
  },
  {
   "cell_type": "markdown",
   "id": "5a44efb5",
   "metadata": {},
   "source": [
    "## Visualize Original Time Series\n",
    "\n",
    "Visualize the starting time series as reference."
   ]
  },
  {
   "cell_type": "code",
   "execution_count": 5,
   "id": "a8d3e6ac",
   "metadata": {},
   "outputs": [
    {
     "data": {
      "image/png": "[encoded data removed]",
      "text/plain": [
       "<Figure size 640x480 with 1 Axes>"
      ]
     },
     "metadata": {},
     "output_type": "display_data"
    }
   ],
   "source": [
    "time_series.plot(title=\"Original Time Series\")\n",
    "plt.show()\n",
    "plt.close()"
   ]
  },
  {
   "cell_type": "markdown",
   "id": "095f6c56",
   "metadata": {},
   "source": [
    "## Run Basic Data Checks: Stale, Abnormal, and Negative Data\n",
    "\n",
    "Basic data checks include removing the following:\n",
    "1) Flatlined/stale data periods (https://pvanalytics.readthedocs.io/en/stable/generated/gallery/gaps/stale-data.html#sphx-glr-generated-gallery-gaps-stale-data-py)\n",
    "\n",
    "2) Negative data \n",
    "\n",
    "3) \"Abnormal\" data periods, which are defined as less than 10% of the daily time series mean\n",
    "\n",
    "4) Outliers, which are defined as more than one 4 standard deviations away from the mean (https://pvanalytics.readthedocs.io/en/stable/generated/gallery/outliers/zscore-outlier-detection.html#sphx-glr-generated-gallery-outliers-zscore-outlier-detection-py)"
   ]
  },
  {
   "cell_type": "code",
   "execution_count": null,
   "id": "bdc0bf47",
   "metadata": {},
   "outputs": [],
   "source": [
    "# 1) REMOVE STALE DATA\n",
    "stale_data_mask = gaps.stale_values_round(time_series,\n",
    "                                          window=3,\n",
    "                                          decimals=2)\n",
    "\n",
    "# 2) REMOVE NEGATIVE DATA\n",
    "negative_mask = (time_series < 0)\n",
    "\n",
    "# FIND ABNORMAL PERIODS\n",
    "daily_min = time_series.resample('D').min()\n",
    "series_min = 0.1 * time_series.mean()\n",
    "erroneous_mask = (daily_min < series_min)\n",
    "erroneous_mask = erroneous_mask.reindex(index=time_series.index,\n",
    "                                        method='ffill',\n",
    "                                        fill_value=False)\n",
    "\n",
    "# FIND OUTLIERS (Z-SCORE FILTER)\n",
    "zscore_outlier_mask = zscore(time_series, zmax=4,\n",
    "                             nan_policy='omit')\n",
    "\n",
    "# Get the percentage of data flagged for each issue, so it can later be logged\n",
    "pct_stale = round((len(time_series[stale_data_mask].dropna())/len(time_series.dropna())*100), 1)\n",
    "pct_negative = round((len(time_series[negative_mask].dropna())/len(time_series.dropna())*100), 1)\n",
    "pct_erroneous = round((len(time_series[~erroneous_mask].dropna())/len(time_series.dropna())*100), 1)\n",
    "pct_outlier = round((len(time_series[zscore_outlier_mask].dropna())/len(time_series.dropna())*100), 1)\n",
    "\n",
    "# Visualize all of the time series issues (stale, abnormal, outlier, etc)\n",
    "time_series.plot()\n",
    "labels = [\"AC Power\"]\n",
    "if any(stale_data_mask):\n",
    "    time_series.loc[stale_data_mask].plot(ls='', marker='o', color = \"green\")\n",
    "    labels.append(\"Stale\")\n",
    "if any(negative_mask):\n",
    "    time_series.loc[negative_mask].plot(ls='', marker='o', color = \"orange\")\n",
    "    labels.append(\"Negative\")\n",
    "if any(~erroneous_mask):\n",
    "    time_series.loc[~erroneous_mask].plot(ls='', marker='o', color = \"yellow\")\n",
    "    labels.append(\"Abnormal\")\n",
    "if any(zscore_outlier_mask):\n",
    "    time_series.loc[zscore_outlier_mask].plot(ls='', marker='o', color = \"purple\")\n",
    "    labels.append(\"Outlier\")\n",
    "plt.legend(labels=labels)\n",
    "plt.title(\"Time Series Labeled for Basic Issues\")\n",
    "plt.xticks(rotation=20)\n",
    "plt.xlabel(\"Date\")\n",
    "plt.ylabel(\"AC Power\")\n",
    "plt.tight_layout()\n",
    "plt.show()\n",
    "plt.close()\n",
    "\n",
    "# Filter the time series, taking out all of the issues\n",
    "time_series = time_series[~stale_data_mask]\n",
    "time_series = time_series[~negative_mask]\n",
    "time_series = time_series[erroneous_mask]\n",
    "time_series = time_series[~zscore_outlier_mask]\n",
    "time_series = time_series.asfreq(data_freq)\n",
    "\n",
    "# Visualize the time series post-filtering\n",
    "time_series.plot(title = \"Time Series Post-Basic Data Filtering\")\n",
    "plt.show()\n",
    "plt.close()"
   ]
  },
  {
   "cell_type": "markdown",
   "id": "c055f87b",
   "metadata": {},
   "source": [
    "## Filter by Completeness Score\n",
    "Filter the time series by a daily \"completeness\" score (https://pvanalytics.readthedocs.io/en/stable/generated/gallery/gaps/data-completeness.html#sphx-glr-generated-gallery-gaps-data-completeness-py).This filtering scheme requires at least 25% of data to be present for each day for it to be included. We further require that there be at least 10 consecutive days meeting this 25% threshold for the day to be included (see https://pvanalytics.readthedocs.io/en/stable/generated/pvanalytics.quality.gaps.trim_incomplete.html#pvanalytics.quality.gaps.trim_incomplete for more info)."
   ]
  },
  {
   "cell_type": "code",
   "execution_count": null,
   "id": "b592633d",
   "metadata": {},
   "outputs": [],
   "source": [
    "# Visualize daily data completeness\n",
    "data_completeness_score = gaps.completeness_score(time_series)\n",
    "\n",
    "# Visualize data completeness score as a time series.\n",
    "data_completeness_score.plot()\n",
    "plt.xlabel(\"Date\")\n",
    "plt.ylabel(\"Daily Completeness Score (Fractional)\")\n",
    "plt.tight_layout()\n",
    "plt.show()\n",
    "\n",
    "# Trim the series based on daily completeness score\n",
    "trim_series = pvanalytics.quality.gaps.trim_incomplete(time_series,\n",
    "                                                       minimum_completeness=.25,\n",
    "                                                       freq=data_freq)\n",
    "first_valid_date, last_valid_date = pvanalytics.quality.gaps.start_stop_dates(trim_series)\n",
    "time_series = time_series[first_valid_date.tz_convert(time_series.index.tz):last_valid_date.tz_convert(time_series.index.tz)]\n",
    "time_series = time_series.asfreq(data_freq)"
   ]
  },
  {
   "cell_type": "markdown",
   "id": "2dd76e27",
   "metadata": {},
   "source": [
    "## Check for time shifts in the time series\n",
    "\n",
    "The \"midday\" point between sunrise and sunset is calculated for each day in the time series, and compared to the modelled \"midday\" point using the current time zone. Modeled midday is subtracted from measured midday, and the difference is scrutinized for time shifts using changepoint detection."
   ]
  },
  {
   "cell_type": "code",
   "execution_count": null,
   "id": "8798ee3c",
   "metadata": {},
   "outputs": [],
   "source": [
    "# Plot the heatmap of the AC power time series\n",
    "plt.figure()\n",
    "# Get time of day from the associated datetime column\n",
    "time_of_day = pd.Series(time_series.index.hour +\n",
    "                        time_series.index.minute/60,\n",
    "                        index=time_series.index)\n",
    "# Pivot the dataframe\n",
    "dataframe = pd.DataFrame(pd.concat([time_series, time_of_day], axis=1))    \n",
    "dataframe.columns = [\"values\", 'time_of_day']\n",
    "dataframe = dataframe.dropna()\n",
    "dataframe_pivoted = dataframe.pivot_table(index='time_of_day',\n",
    "                                          columns=dataframe.index.date,\n",
    "                                          values=\"values\")\n",
    "plt.pcolormesh(dataframe_pivoted.columns,\n",
    "               dataframe_pivoted.index,\n",
    "               dataframe_pivoted,\n",
    "               shading='auto')\n",
    "plt.ylabel('Time of day [0-24]')\n",
    "plt.xlabel('Date')\n",
    "plt.xticks(rotation=60)\n",
    "plt.title('Pre-Correction Heatmap, Time of Day')\n",
    "plt.colorbar()\n",
    "plt.tight_layout()\n",
    "plt.show()\n",
    "plt.close()\n",
    "\n",
    "# CHECK FOR TIME SHIFTS \n",
    "midday_diff_series, time_shift_series = tsh.detect_time_shifts(\n",
    "            time_series, latitude, longitude, freq_minutes)\n",
    "\n",
    "# Generate boolean for detected time shifts\n",
    "if any(time_shift_series != 0):\n",
    "    time_shifts_detected = True\n",
    "else:\n",
    "    time_shifts_detected = False\n",
    "\n",
    "# Build a list of dictionaries for time shifts\n",
    "time_shift_series.index = pd.to_datetime(time_shift_series.index).tz_localize(time_series.index.tz)\n",
    "changepoints = (time_shift_series != time_shift_series.shift(1))\n",
    "changepoints = changepoints[changepoints].index\n",
    "changepoint_amts = pd.Series(time_shift_series.loc[changepoints])\n",
    "time_shift_list = list()\n",
    "for idx in range(len(changepoint_amts)):\n",
    "    try:\n",
    "        time_shift_list.append({\"datetime_start\": str(changepoint_amts.index[idx]),\n",
    "                                \"datetime_end\": str(changepoint_amts.index[idx + 1]),\n",
    "                                \"time_shift\": changepoint_amts[idx]})\n",
    "    except:\n",
    "        time_shift_list.append({\"datetime_start\": str(changepoint_amts.index[idx]),\n",
    "                                \"datetime_end\": str(time_shift_series.index.max()),\n",
    "                                \"time_shift\": changepoint_amts[idx]})\n",
    "\n",
    "# Correct any time shifts in the time series\n",
    "new_index = pd.Series(time_series.index, index=time_series.index)\n",
    "for i in time_shift_list:\n",
    "    new_index[(time_series.index >= pd.to_datetime(i['datetime_start'])) &\n",
    "              (time_series.index < pd.to_datetime(i['datetime_end']))] = \\\n",
    "            time_series.index + pd.Timedelta(minutes=i['time_shift'])\n",
    "time_series.index = new_index\n",
    "# Remove duplicated indices and sort the time series (just in case)\n",
    "time_series = time_series[~time_series.index.duplicated(keep='first')].sort_index()\n",
    "\n",
    "# Plot the difference between measured and modeled midday, as well as the CPD-estimated time shift series.\n",
    "midday_diff_series.plot()\n",
    "time_shift_series.plot()\n",
    "plt.title(\"Midday Difference Time Shift Series\")\n",
    "plt.show()\n",
    "plt.close()\n",
    "\n",
    "# Plot the heatmap of the AC power time series\n",
    "plt.figure()\n",
    "# Get time of day from the associated datetime column\n",
    "time_of_day = pd.Series(time_series.index.hour +\n",
    "                        time_series.index.minute/60,\n",
    "                        index=time_series.index)\n",
    "# Pivot the dataframe\n",
    "dataframe = pd.DataFrame(pd.concat([time_series, time_of_day], axis=1))    \n",
    "dataframe.columns = [\"values\", 'time_of_day']\n",
    "dataframe = dataframe.dropna()\n",
    "dataframe_pivoted = dataframe.pivot_table(index='time_of_day',\n",
    "                                          columns=dataframe.index.date,\n",
    "                                          values=\"values\")\n",
    "plt.pcolormesh(dataframe_pivoted.columns,\n",
    "               dataframe_pivoted.index,\n",
    "               dataframe_pivoted,\n",
    "               shading='auto')\n",
    "plt.ylabel('Time of day [0-24]')\n",
    "plt.xlabel('Date')\n",
    "plt.xticks(rotation=60)\n",
    "plt.title('Post-Correction Heatmap, Time of Day')\n",
    "plt.colorbar()\n",
    "plt.tight_layout()\n",
    "plt.show()\n",
    "plt.close()"
   ]
  },
  {
   "cell_type": "markdown",
   "id": "c51ec6ca",
   "metadata": {},
   "source": [
    "## Determine Data Shifts\n",
    "\n",
    "Examine the daily time series for abrupt capacity shifts, and determine the longest continuous part of the series free of data shifts. Once again, changepoint detection is used to determine shift dates."
   ]
  },
  {
   "cell_type": "code",
   "execution_count": null,
   "id": "62a2dd0f",
   "metadata": {},
   "outputs": [],
   "source": [
    "# Resample the time series to daily mean\n",
    "time_series_daily = time_series.resample('D').mean()\n",
    "data_shift_start_date, data_shift_end_date = \\\n",
    "            ds.get_longest_shift_segment_dates(time_series_daily)\n",
    "data_shift_period_length = (data_shift_end_date - data_shift_start_date).days\n",
    "\n",
    "# Get the number of shift dates\n",
    "data_shift_mask = pvanalytics.quality.data_shifts.detect_data_shifts(time_series_daily)\n",
    "# Get the shift dates\n",
    "shift_dates = list(time_series_daily[data_shift_mask].index)\n",
    "if len(shift_dates) > 0:            \n",
    "    shift_found = True\n",
    "else:\n",
    "    shift_found = False\n",
    "\n",
    "# Visualize the time shifts for the daily time series\n",
    "print(\"Shift Found??\")\n",
    "print(shift_found)\n",
    "edges = [time_series_daily.index[0]] + shift_dates + [time_series_daily.index[-1]]\n",
    "fig, ax = plt.subplots()\n",
    "for (st, ed) in zip(edges[:-1], edges[1:]):\n",
    "    ax.plot(time_series_daily.loc[st:ed])\n",
    "plt.title(\"Daily Time Series Labeled for Data Shifts\")\n",
    "plt.show()\n",
    "plt.close()"
   ]
  },
  {
   "cell_type": "code",
   "execution_count": null,
   "id": "8e9f4b89",
   "metadata": {},
   "outputs": [],
   "source": [
    "# Filter the time series to only include the longest shift-free period\n",
    "time_series = time_series[(time_series.index >= data_shift_start_date.tz_convert(time_series.index.tz)) &\n",
    "                          (time_series.index <= data_shift_end_date.tz_convert(time_series.index.tz))]\n",
    "\n",
    "time_series = time_series.asfreq(data_freq)"
   ]
  },
  {
   "cell_type": "markdown",
   "id": "9ae3b862",
   "metadata": {},
   "source": [
    "## Identify and Remove Clipped Periods\n",
    "\n",
    "Use logic-based and ML-based clipping functions to identify clipped periods in the time series data, and plot the filtered data if applicable."
   ]
  },
  {
   "cell_type": "code",
   "execution_count": null,
   "id": "a3186456",
   "metadata": {},
   "outputs": [],
   "source": [
    "# REMOVE CLIPPING PERIODS\n",
    "logic_clipping_mask = ~rdtools.filtering.logic_clip_filter(time_series)\n",
    "#xgb_clipping_mask = ~rdtools.filtering.xgboost_clip_filter(time_series)\n",
    "clipping_mask = logic_clipping_mask #(xgb_clipping_mask | logic_clipping_mask)\n",
    "# Get the pct clipping\n",
    "clipping_mask.dropna(inplace=True)\n",
    "pct_clipping = round(100*(len(clipping_mask[\n",
    "    clipping_mask])/len(clipping_mask)), 4)\n",
    "if pct_clipping >= 0.5:\n",
    "    clipping = True\n",
    "    clip_pwr = time_series[clipping_mask].median()\n",
    "else:\n",
    "    clipping = False\n",
    "    clip_pwr = np.nan\n",
    "# Plot the time series with clipping, if clipping is present\n",
    "if clipping:\n",
    "    time_series.plot()\n",
    "    time_series.loc[clipping_mask].plot(ls='', marker='o')\n",
    "    plt.legend(labels=[\"AC Power\", \"Clipping\"],\n",
    "               title=\"Clipped\")\n",
    "    plt.title(\"Time Series Labeled for Clipping\")\n",
    "    plt.xticks(rotation=20)\n",
    "    plt.xlabel(\"Date\")\n",
    "    plt.ylabel(\"AC Power\")\n",
    "    plt.tight_layout()\n",
    "    plt.show()\n",
    "    plt.close()"
   ]
  },
  {
   "cell_type": "markdown",
   "id": "15a229a0",
   "metadata": {},
   "source": [
    "## Identify the Mounting Configuration\n",
    "\n",
    "Look at the daily power profile for summer and winter months, and identify if the data stream is associated with a fixed-tilt or single axis tracking system."
   ]
  },
  {
   "cell_type": "code",
   "execution_count": null,
   "id": "e3280642",
   "metadata": {},
   "outputs": [],
   "source": [
    "# CHECK MOUNTING CONFIGURATION\n",
    "daytime_mask = power_or_irradiance(time_series)\n",
    "predicted_mounting_config = is_tracking_envelope(time_series,\n",
    "                                                 daytime_mask,\n",
    "                                                 clipping_mask)\n",
    "\n",
    "print(\"Predicted Mounting configuration:\")\n",
    "print(predicted_mounting_config.name)"
   ]
  },
  {
   "cell_type": "markdown",
   "id": "fad2f170",
   "metadata": {},
   "source": [
    "## Estimate Azimuth and Tilt\n",
    "\n",
    "Estimate the azimuth and tilt of the system, based on the power series data."
   ]
  },
  {
   "cell_type": "code",
   "execution_count": null,
   "id": "4a6fbc3d",
   "metadata": {},
   "outputs": [],
   "source": [
    "# Pull down PSM3 data via PVLib and process it for merging with the time series\n",
    "time_series = time_series.dropna()\n",
    "psm3s = []\n",
    "years = list(time_series.index.year.drop_duplicates())\n",
    "years = [int(x) for x in years if x <= 2020]\n",
    "for year in years:\n",
    "    # Pull from API and save locally\n",
    "    psm3, _ = pvlib.iotools.get_psm3(latitude, longitude,\n",
    "                                    nsrdb_api_key,\n",
    "                                    nsrdb_user_email, year,\n",
    "                                    attributes=['air_temperature',\n",
    "                                                'ghi', 'clearsky_ghi',\n",
    "                                                'clearsky_dni', 'clearsky_dhi'],\n",
    "                                     map_variables=True,\n",
    "                                     interval=30,\n",
    "                                     leap_day=True,\n",
    "                                     timeout=60)\n",
    "    psm3s.append(psm3)\n",
    "if len(psm3s) > 0:\n",
    "    psm3 = pd.concat(psm3s)\n",
    "    psm3 = psm3.reindex(pd.date_range(psm3.index[0],\n",
    "                                      psm3.index[-1],\n",
    "                                      freq=data_freq)).interpolate()\n",
    "    psm3.index = psm3.index.tz_convert(time_series.index.tz)\n",
    "    psm3 = psm3.reindex(time_series.index)\n",
    "    is_clear = (psm3.ghi_clear == psm3.ghi)\n",
    "    is_daytime = (psm3.ghi > 0)\n",
    "\n",
    "    # Trim based on clearsky and daytime values\n",
    "    time_series_clearsky = time_series.reindex(is_daytime.index)[(is_clear) & (is_daytime)]\n",
    "\n",
    "    # Get final PSM3 data\n",
    "    psm3_clearsky = psm3.loc[time_series_clearsky.index]\n",
    "    solpos_clearsky = pvlib.solarposition.get_solarposition(time_series_clearsky.index,\n",
    "                                                            latitude,\n",
    "                                                            longitude)\n",
    "\n",
    "    #Estimate the azimuth and tilt using PVWatts-based method\n",
    "    predicted_tilt, predicted_azimuth, r2 = infer_orientation_fit_pvwatts(time_series_clearsky,\n",
    "                                                                          psm3_clearsky.ghi_clear,\n",
    "                                                                          psm3_clearsky.dhi_clear,\n",
    "                                                                          psm3_clearsky.dni_clear,\n",
    "                                                                          solpos_clearsky.zenith,\n",
    "                                                                          solpos_clearsky.azimuth,\n",
    "                                                                          temperature=psm3_clearsky.temp_air,\n",
    "                                                                          azimuth_min=90,\n",
    "                                                                          azimuth_max=275)\n",
    "    print(\"Predicted azimuth: \" + str(predicted_azimuth))\n",
    "    print(\"Predicted tilt: \" + str(predicted_tilt))\n",
    "else:\n",
    "    print(\"PSM3 data period not available for analysis!\")\n",
    "    predicted_azimuth, predicted_tilt = None, None"
   ]
  },
  {
   "cell_type": "markdown",
   "id": "647e5f33",
   "metadata": {},
   "source": [
    "## Display the final filtered time series\n",
    "\n",
    "Show the final time series post-processing as reference."
   ]
  },
  {
   "cell_type": "code",
   "execution_count": null,
   "id": "e2e5b850",
   "metadata": {},
   "outputs": [],
   "source": [
    "time_series.plot(title=\"Final Filtered Time Series\")\n",
    "plt.show()\n",
    "plt.close()"
   ]
  },
  {
   "cell_type": "markdown",
   "id": "ea0bae86",
   "metadata": {},
   "source": [
    "## Generate QA Report\n",
    "\n",
    "Generate a dictionary outlining all of the different issues present for the time series."
   ]
  },
  {
   "cell_type": "code",
   "execution_count": null,
   "id": "33b141f5",
   "metadata": {},
   "outputs": [],
   "source": [
    "qa_check_dict = {\"original_time_zone_offset\": time_series.index.tz,\n",
    "                 \"pct_stale\": pct_stale,\n",
    "                 \"pct_negative\": pct_negative,\n",
    "                 \"pct_erroneous\": pct_erroneous,\n",
    "                 \"pct_outlier\": pct_outlier,\n",
    "                 \"time_shifts_detected\": time_shifts_detected,\n",
    "                 \"time_shift_list\": time_shift_list,\n",
    "                 \"data_shifts\": shift_found,\n",
    "                 \"shift_dates\": shift_dates,\n",
    "                 \"clipping\": clipping,\n",
    "                 \"clipping_threshold\": clip_pwr,\n",
    "                 \"pct_clipping\": pct_clipping,\n",
    "                 \"mounting_config\": predicted_mounting_config.name,\n",
    "                 \"predicted_azimuth\": predicted_azimuth,\n",
    "                 \"predicted_tilt\": predicted_tilt,\n",
    "                 \"filtered_time_series\": time_series}\n",
    "\n",
    "print(\"QA Results:\")\n",
    "print(qa_check_dict)"
   ]
  }
 ],
 "metadata": {
  "kernelspec": {
   "display_name": "Python 3 (ipykernel)",
   "language": "python",
   "name": "python3"
  },
  "language_info": {
   "codemirror_mode": {
    "name": "ipython",
    "version": 3
   },
   "file_extension": ".py",
   "mimetype": "text/x-python",
   "name": "python",
   "nbconvert_exporter": "python",
   "pygments_lexer": "ipython3",
   "version": "3.10.0"
  }
 },
 "nbformat": 4,
 "nbformat_minor": 5
}
